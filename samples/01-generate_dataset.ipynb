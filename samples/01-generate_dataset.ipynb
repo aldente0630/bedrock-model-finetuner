{
 "cells": [
  {
   "cell_type": "markdown",
   "id": "3745ff71-4ac5-4a4e-a4ca-2d3b141dc70a",
   "metadata": {},
   "source": [
    "# LLM Fine-tuning Datasets Generation from Documents\n",
    "This notebook generates QA datasets from [Nike's annual public SEC report](https://s1.q4cdn.com/806093406/files/doc_downloads/2023/414759-1-_5_Nike-NPS-Combo_Form-10-K_WR.pdf)."
   ]
  },
  {
   "cell_type": "code",
   "execution_count": null,
   "id": "ee96cc31-acb1-4b0b-9bd6-2a31c5860c9d",
   "metadata": {},
   "outputs": [],
   "source": [
    "%load_ext autoreload\n",
    "%autoreload 2\n",
    "%load_ext jupyter_black"
   ]
  },
  {
   "cell_type": "code",
   "execution_count": null,
   "id": "1024e215-a350-45aa-9b8e-e33267901151",
   "metadata": {},
   "outputs": [],
   "source": [
    "import os\n",
    "import sys\n",
    "import boto3\n",
    "from langchain_community.document_loaders import PyPDFLoader\n",
    "\n",
    "sys.path.append(os.pardir)\n",
    "from core import (\n",
    "    ChatModelId,\n",
    "    get_llm,\n",
    "    QaDatasetGenerator,\n",
    "    QaDatasetValidator,\n",
    "    save_docs_to_jsonl,\n",
    ")"
   ]
  },
  {
   "cell_type": "markdown",
   "id": "cefbd59b-c4de-437e-ae92-6240c1d74c71",
   "metadata": {},
   "source": [
    "Define file paths and AWS configurations."
   ]
  },
  {
   "cell_type": "code",
   "execution_count": null,
   "id": "47d13b97-7e7b-4f64-94b0-1d5712027d64",
   "metadata": {},
   "outputs": [],
   "source": [
    "PDF_FILE_PATH = \"../assets/nke-10k-2023.pdf\"\n",
    "DOCS_FILE_PATH = \"../assets/nke-10k-2023.jsonl\"\n",
    "\n",
    "TRAIN_DATASET_PATH = \"../assets/train_dataset.jsonl\"\n",
    "VALIDATION_DATASET_PATH = \"../assets/validation_dataset.jsonl\"\n",
    "\n",
    "REGION_NAME = \"us-west-2\"\n",
    "S3_BUCKET_NAME = \"<YOUR-S3-BUCKET-NAME>\"\n",
    "\n",
    "boto_session = boto3.Session(region_name=REGION_NAME)"
   ]
  },
  {
   "cell_type": "markdown",
   "id": "a359604d-1f4a-4fe6-bd75-395639a787de",
   "metadata": {},
   "source": [
    "### Step 1: Load the PDF document and save to a JSONL file"
   ]
  },
  {
   "cell_type": "code",
   "execution_count": null,
   "id": "690d4446-c429-4486-a017-414e58a7b28f",
   "metadata": {},
   "outputs": [],
   "source": [
    "loader = PyPDFLoader(PDF_FILE_PATH)\n",
    "documents = loader.load()\n",
    "\n",
    "save_docs_to_jsonl(documents, DOCS_FILE_PATH)"
   ]
  },
  {
   "cell_type": "markdown",
   "id": "5014b5d7-3d32-4a2b-b450-f96ef25aff5c",
   "metadata": {},
   "source": [
    "### Step 2: Initialize the LLM and create a QA dataset generator"
   ]
  },
  {
   "cell_type": "code",
   "execution_count": null,
   "id": "582110b5-9f25-4c5d-9fdf-128b27e52747",
   "metadata": {},
   "outputs": [],
   "source": [
    "llm = get_llm(\n",
    "    ChatModelId.CLAUDE_V3_5_SONNET,\n",
    "    region_name=REGION_NAME,\n",
    ")\n",
    "\n",
    "qa_dataset_generator = QaDatasetGenerator.from_jsonl(llm, DOCS_FILE_PATH)"
   ]
  },
  {
   "cell_type": "markdown",
   "id": "5a9f425c-ec86-47c6-9204-6c24be61bc77",
   "metadata": {},
   "source": [
    "### Step 3: Generate, save and upload training dataset"
   ]
  },
  {
   "cell_type": "code",
   "execution_count": null,
   "id": "e043df98-e28e-4d86-adde-b977dcd3bc95",
   "metadata": {},
   "outputs": [],
   "source": [
    "train_dataset = qa_dataset_generator.generate(dataset_type=\"train\")\n",
    "\n",
    "_ = qa_dataset_generator.save_and_upload(\n",
    "    train_dataset,\n",
    "    TRAIN_DATASET_PATH,\n",
    "    boto_session=boto_session,\n",
    "    bucket_name=S3_BUCKET_NAME,\n",
    ")"
   ]
  },
  {
   "cell_type": "markdown",
   "id": "de3aa055-2277-4f02-9461-7fd95eeb842c",
   "metadata": {},
   "source": [
    "### Step 4: Generate, save and upload validation dataset"
   ]
  },
  {
   "cell_type": "code",
   "execution_count": null,
   "id": "60cd5972-c28e-4235-8a3e-c140f1bbb1e0",
   "metadata": {},
   "outputs": [],
   "source": [
    "validation_dataset = qa_dataset_generator.generate(\n",
    "    sampling_rate=0.2,\n",
    "    dataset_type=\"validation\",\n",
    ")\n",
    "\n",
    "_ = qa_dataset_generator.save_and_upload(\n",
    "    validation_dataset,\n",
    "    VALIDATION_DATASET_PATH,\n",
    "    boto_session=boto_session,\n",
    "    bucket_name=S3_BUCKET_NAME,\n",
    ")"
   ]
  },
  {
   "cell_type": "markdown",
   "id": "3e3af69b-5594-4cb1-bc81-a15b69e37dc2",
   "metadata": {},
   "source": [
    "### Step 5: Validate training and validation datasets for fine-tuning"
   ]
  },
  {
   "cell_type": "code",
   "execution_count": null,
   "id": "ff9be8c2-b97a-4e85-a797-217e8cebc1ad",
   "metadata": {},
   "outputs": [],
   "source": [
    "qa_dataset_validator = QaDatasetValidator()\n",
    "\n",
    "qa_dataset_validator.validate_data(TRAIN_DATASET_PATH, VALIDATION_DATASET_PATH)"
   ]
  }
 ],
 "metadata": {
  "kernelspec": {
   "display_name": "Python 3 (ipykernel)",
   "language": "python",
   "name": "python3"
  },
  "language_info": {
   "codemirror_mode": {
    "name": "ipython",
    "version": 3
   },
   "file_extension": ".py",
   "mimetype": "text/x-python",
   "name": "python",
   "nbconvert_exporter": "python",
   "pygments_lexer": "ipython3",
   "version": "3.11.9"
  }
 },
 "nbformat": 4,
 "nbformat_minor": 5
}
