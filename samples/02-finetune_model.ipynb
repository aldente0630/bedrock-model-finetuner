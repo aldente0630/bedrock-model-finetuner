{
 "cells": [
  {
   "cell_type": "markdown",
   "id": "30b7cca3-8625-4110-97cd-7d1773b89495",
   "metadata": {},
   "source": [
    "# LLM Fine-tuning with Amazon Bedrock \n",
    "This notebook demonstrates the process of fine-tuning an LLM using Amazon Bedrock."
   ]
  },
  {
   "cell_type": "code",
   "execution_count": null,
   "id": "2de11cbb-84cb-44ca-80f6-15c4fdfb9ed7",
   "metadata": {},
   "outputs": [],
   "source": [
    "%load_ext autoreload\n",
    "%autoreload 2"
   ]
  },
  {
   "cell_type": "code",
   "execution_count": null,
   "id": "2cd56411-aff7-4e67-b219-ed6a1dbfef54",
   "metadata": {},
   "outputs": [],
   "source": [
    "import os\n",
    "from typing import Optional\n",
    "from langchain.schema import HumanMessage, SystemMessage\n",
    "from langchain_aws import ChatBedrock\n",
    "\n",
    "sys.path.append(os.pardir)\n",
    "from core import BedrockModelFinetuner, get_s3_uri"
   ]
  },
  {
   "cell_type": "markdown",
   "id": "cc062a93-254d-410f-8c01-b4d375b7ec9b",
   "metadata": {},
   "source": [
    "Define file paths and AWS configurations."
   ]
  },
  {
   "cell_type": "code",
   "execution_count": null,
   "id": "9428572d-7212-42fb-ae7a-e94b05af4a1e",
   "metadata": {},
   "outputs": [],
   "source": [
    "REGION_NAME = \"us-west-2\"\n",
    "S3_BUCKET_NAME = \"<YOUR-S3-BUCKET-NAME>\"\n",
    "DEFALUT_DATASETS_PREFIX = \"datasets\"\n",
    "\n",
    "TRAIN_DATASET_PATH = \"../assets/train_dataset.jsonl\"\n",
    "VALIDATION_DATASET_PATH = \"../assets/validation_dataset.jsonl\"\n",
    "\n",
    "\n",
    "def get_dataset_uri(\n",
    "    bucket_name: str, dataset_path: str, prefix: Optional[str] = DEFALUT_DATASETS_PREFIX\n",
    ") -> str:\n",
    "    filename = os.path.basename(dataset_path)\n",
    "    key = filename if prefix is None else f\"{prefix}/{filename}\"\n",
    "    return get_s3_uri(bucket_name, key)"
   ]
  },
  {
   "cell_type": "markdown",
   "id": "ff8bccf1-2130-4873-9112-3f0b374ebff8",
   "metadata": {},
   "source": [
    "### Step 1: Initialize Bedrock fine-tuner and prepare dataset URIs"
   ]
  },
  {
   "cell_type": "code",
   "execution_count": null,
   "id": "ae2c8b19-8b27-416e-819d-1ac3c288e95d",
   "metadata": {},
   "outputs": [],
   "source": [
    "bedrock_model_finetuner = BedrockModelFinetuner(aws_region_name=REGION_NAME)\n",
    "\n",
    "train_dataset_uri = get_dataset_uri(S3_BUCKET_NAME, TRAIN_DATASET_PATH)\n",
    "validation_dataset_uri = get_dataset_uri(S3_BUCKET_NAME, VALIDATION_DATASET_PATH)"
   ]
  },
  {
   "cell_type": "markdown",
   "id": "51b9b3b2-4a15-41d8-ae2f-80e9fb6fee95",
   "metadata": {},
   "source": [
    "### Step 2: Fine-tune and deploy the model"
   ]
  },
  {
   "cell_type": "code",
   "execution_count": null,
   "id": "1df7e47a-feb1-44e4-8511-6bcea9b81c8e",
   "metadata": {},
   "outputs": [],
   "source": [
    "_ = bedrock_model_finetuner.finetune(train_dataset_uri, validation_dataset_uri)"
   ]
  },
  {
   "cell_type": "code",
   "execution_count": null,
   "id": "e7819f81-a806-4b9f-87df-5768eb1f7cef",
   "metadata": {},
   "outputs": [],
   "source": [
    "_ = bedrock_model_finetuner.deploy()"
   ]
  },
  {
   "cell_type": "markdown",
   "id": "2a380319-f978-4eab-957a-fe8c54c44b51",
   "metadata": {},
   "source": [
    "### Step 3: Test the fine-tuned model with a sample question"
   ]
  },
  {
   "cell_type": "code",
   "execution_count": null,
   "id": "9650894d-2fcf-4b8c-b9d5-d507216a1207",
   "metadata": {},
   "outputs": [],
   "source": [
    "chat = ChatBedrock(\n",
    "    model_id=bedrock_model_finetuner.provisioned_model_arn,\n",
    "    model_kwargs={\n",
    "        \"anthropic_version\": \"bedrock-2023-05-31\",\n",
    "        \"max_tokens\": 4096,\n",
    "        \"temperature\": 0.0,\n",
    "        \"top_p\": 0.9,\n",
    "    },\n",
    "    provider=bedrock_model_finetuner.provider,\n",
    "    region_name=REGION_NAME,\n",
    ")"
   ]
  },
  {
   "cell_type": "code",
   "execution_count": null,
   "id": "6508e02c-d5d7-4709-86d0-8a8f817666b4",
   "metadata": {},
   "outputs": [],
   "source": [
    "messages = [\n",
    "    SystemMessage(\n",
    "        content=\"\"\"You're an AI analyzing NIKE's 2023 Form 10-K. Answer questions using only this document. \n",
    "        Be accurate, concise, and cite sources. State if info isn't available.\"\"\"\n",
    "    ),\n",
    "    HumanMessage(\n",
    "        content=\"\"\"Based on the information in NIKE's 2023 Form 10-K, what are the main international markets \n",
    "        for NIKE products, and what challenges does the company face in these markets?\"\"\"\n",
    "    ),\n",
    "]\n",
    "response = chat(messages)\n",
    "\n",
    "print(\"Model response:\", response.content + \"\\n\")"
   ]
  },
  {
   "cell_type": "markdown",
   "id": "45c34c58-5b1f-4d76-8815-27d057dd416a",
   "metadata": {},
   "source": [
    "### Step 4: Clean up resources"
   ]
  },
  {
   "cell_type": "code",
   "execution_count": null,
   "id": "ffb92b77-1f45-4d6e-8927-68cad071014a",
   "metadata": {},
   "outputs": [],
   "source": [
    "_ = bedrock_model_finetuner.delete()"
   ]
  }
 ],
 "metadata": {
  "kernelspec": {
   "display_name": "Python 3 (ipykernel)",
   "language": "python",
   "name": "python3"
  },
  "language_info": {
   "codemirror_mode": {
    "name": "ipython",
    "version": 3
   },
   "file_extension": ".py",
   "mimetype": "text/x-python",
   "name": "python",
   "nbconvert_exporter": "python",
   "pygments_lexer": "ipython3",
   "version": "3.11.9"
  }
 },
 "nbformat": 4,
 "nbformat_minor": 5
}
